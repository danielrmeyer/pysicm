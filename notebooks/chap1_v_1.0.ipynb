{
 "cells": [
  {
   "cell_type": "code",
   "execution_count": 8,
   "id": "aaf85dd4-4db7-4a85-92f5-17694ece8df8",
   "metadata": {},
   "outputs": [
    {
     "data": {
      "text/latex": [
       "$\\displaystyle 435.0$"
      ],
      "text/plain": [
       "435.000000000000"
      ]
     },
     "execution_count": 8,
     "metadata": {},
     "output_type": "execute_result"
    }
   ],
   "source": [
    "from sympy import symbols, Function, integrate, Rational, diff\n",
    "\n",
    "# Define the symbols\n",
    "t = symbols('t')\n",
    "m = symbols('m')\n",
    "\n",
    "# Adjusted Lagrangian function for a free particle\n",
    "def L_free_particle(mass, x, y, z):\n",
    "    v_squared = diff(x, t)**2 + diff(y, t)**2 + diff(z, t)**2\n",
    "    return Rational(1, 2) * mass * v_squared\n",
    "\n",
    "# Define the path functions\n",
    "x = 4*t + 7\n",
    "y = 3*t + 5\n",
    "z = 2*t + 1\n",
    "\n",
    "# Define the Lagrangian for mass 3\n",
    "L = L_free_particle(3, x, y, z)\n",
    "\n",
    "# Calculate the action for the test path from t=0 to t=10\n",
    "action = integrate(L, (t, 0, 10))\n",
    "action.evalf()  # Evaluate the expression to a floating-point number\n",
    "\n",
    "\n"
   ]
  },
  {
   "cell_type": "code",
   "execution_count": 9,
   "id": "b43fdc3c-a534-4251-8e76-e77b721def7d",
   "metadata": {},
   "outputs": [
    {
     "data": {
      "text/latex": [
       "$\\displaystyle 436.291214285714$"
      ],
      "text/plain": [
       "436.291214285714"
      ]
     },
     "execution_count": 9,
     "metadata": {},
     "output_type": "execute_result"
    }
   ],
   "source": [
    "from sympy import symbols, sin, cos, integrate, Rational, Function, diff, Matrix\n",
    "\n",
    "# Define symbols\n",
    "t, eps = symbols('t eps')\n",
    "m = symbols('m')\n",
    "\n",
    "# Define the eta function\n",
    "def make_eta(nu, t1, t2):\n",
    "    def eta(t):\n",
    "        return (t - t1) * (t - t2) * nu(t)\n",
    "    return eta\n",
    "\n",
    "# Adjusted Lagrangian function for a free particle\n",
    "def L_free_particle(mass, x, y, z):\n",
    "    v_squared = diff(x, t)**2 + diff(y, t)**2 + diff(z, t)**2\n",
    "    return Rational(1, 2) * mass * v_squared\n",
    "\n",
    "# Varied free particle action\n",
    "def varied_free_particle_action(mass, q, nu, t1, t2, eps):\n",
    "    eta_funcs = [make_eta(lambda t, f=f: f.subs({'t': t}), t1, t2) for f in nu]\n",
    "    new_path = q + eps * Matrix([eta(t) for eta in eta_funcs])\n",
    "    L = L_free_particle(mass, new_path[0], new_path[1], new_path[2])\n",
    "    return integrate(L, (t, t1, t2))\n",
    "\n",
    "# Define the test path\n",
    "test_path = Matrix([4*t + 7, 3*t + 5, 2*t + 1])\n",
    "\n",
    "# Define the variation functions and the matrix\n",
    "nu = Matrix([sin(t), cos(t), t**2])\n",
    "\n",
    "# Calculate the varied action\n",
    "action_value = varied_free_particle_action(3.0, test_path, nu, 0.0, 10.0, 0.001)\n",
    "action_value.evalf()  # Evaluate the expression to a floating-point number\n"
   ]
  },
  {
   "cell_type": "code",
   "execution_count": 11,
   "id": "a986a4a5-7eee-43e2-bc18-1cff2a0116f3",
   "metadata": {},
   "outputs": [
    {
     "data": {
      "text/plain": [
       " message: Solution found.\n",
       " success: True\n",
       "  status: 0\n",
       "     fun: 435.0\n",
       "       x: 2.7755575615628914e-16\n",
       "     nit: 6\n",
       "    nfev: 6"
      ]
     },
     "execution_count": 11,
     "metadata": {},
     "output_type": "execute_result"
    }
   ],
   "source": [
    "from scipy.integrate import quad\n",
    "from scipy.optimize import minimize_scalar\n",
    "\n",
    "# Modify the varied_free_particle_action function to use numerical integration\n",
    "def varied_free_particle_action_numerical(mass, q, nu, t1, t2, eps):\n",
    "    eta_funcs = [make_eta(lambda t, f=f: f.subs({'t': t}), t1, t2) for f in nu]\n",
    "    new_path = q + eps * Matrix([eta(t) for eta in eta_funcs])\n",
    "    L = L_free_particle(mass, new_path[0], new_path[1], new_path[2])\n",
    "\n",
    "    # Define a lambda function for numerical integration\n",
    "    integrand = lambdify(t, L)\n",
    "    \n",
    "    # Numerical integration using quad\n",
    "    action, _ = quad(integrand, t1, t2)\n",
    "    return action\n",
    "\n",
    "# Function that returns the action for a given eps, using numerical integration\n",
    "def action_for_eps_numerical(eps):\n",
    "    return varied_free_particle_action_numerical(3.0, test_path, nu, 0.0, 10.0, eps)\n",
    "\n",
    "# Minimize the action within the range -2.0 to 1.0 using numerical integration\n",
    "minimization_result_numerical = minimize_scalar(\n",
    "    action_for_eps_numerical, bounds=(-2.0, 1.0), method='bounded'\n",
    ")\n",
    "\n",
    "# Output the result of the minimization\n",
    "minimization_result_numerical\n",
    "\n"
   ]
  },
  {
   "cell_type": "code",
   "execution_count": null,
   "id": "2bba04ea-26ef-4ac3-8eea-f09f0dbacb5a",
   "metadata": {},
   "outputs": [],
   "source": []
  }
 ],
 "metadata": {
  "kernelspec": {
   "display_name": "Python 3 (ipykernel)",
   "language": "python",
   "name": "python3"
  },
  "language_info": {
   "codemirror_mode": {
    "name": "ipython",
    "version": 3
   },
   "file_extension": ".py",
   "mimetype": "text/x-python",
   "name": "python",
   "nbconvert_exporter": "python",
   "pygments_lexer": "ipython3",
   "version": "3.10.12"
  }
 },
 "nbformat": 4,
 "nbformat_minor": 5
}
