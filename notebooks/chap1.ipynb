{
 "cells": [
  {
   "cell_type": "markdown",
   "id": "ce5de19d-10eb-4f36-b1b9-e574316bbe8f",
   "metadata": {},
   "source": [
    "# 1.4 Computing Actions"
   ]
  },
  {
   "cell_type": "code",
   "execution_count": 1,
   "id": "1e3b2730-d9a3-4147-8c8f-a56b6126184b",
   "metadata": {},
   "outputs": [],
   "source": [
    "from sympy import symbols, Rational, integrate, Function\n",
    "from sympy import Matrix\n",
    "\n",
    "x = Function('x')\n",
    "y = Function('y')\n",
    "z = Function('z')\n",
    "t = symbols('t')\n",
    "m = symbols('m')\n",
    "\n",
    "q = Matrix([x(t), y(t), z(t)])\n",
    "\n",
    "def velocity(local):\n",
    "    return Matrix(local[4:7])\n",
    "\n",
    "\n",
    "def l_free_particle(mass):\n",
    "    def inner(local):\n",
    "        v = velocity(local)\n",
    "        return Rational(1,2) * mass * (v.transpose() * v)[0]\n",
    "    \n",
    "    return inner\n",
    "\n",
    "\n",
    "def gamma(q, t):\n",
    "    # Returns the local tuple\n",
    "    return Matrix([t, q, q.diff()])\n",
    "\n",
    "\n",
    "def lagrangian_action(L, q, t1, t2):\n",
    "    return integrate(L(gamma(q,t)), (t, t1, t2))\n",
    "\n"
   ]
  },
  {
   "cell_type": "code",
   "execution_count": 2,
   "id": "64f4485f-4c98-4d25-a61d-a940bc49a79e",
   "metadata": {
    "tags": []
   },
   "outputs": [
    {
     "data": {
      "text/latex": [
       "$\\displaystyle \\left[\\begin{matrix}4 t + 7\\\\3 t + 5\\\\2 t + 1\\end{matrix}\\right]$"
      ],
      "text/plain": [
       "Matrix([\n",
       "[4*t + 7],\n",
       "[3*t + 5],\n",
       "[2*t + 1]])"
      ]
     },
     "execution_count": 2,
     "metadata": {},
     "output_type": "execute_result"
    }
   ],
   "source": [
    "test_path = Matrix([4 * t + 7, 3 * t + 5, 2 * t + 1])\n",
    "test_path"
   ]
  },
  {
   "cell_type": "code",
   "execution_count": 3,
   "id": "b6539329-b072-41d4-bd3b-dec323b7b2ed",
   "metadata": {
    "tags": []
   },
   "outputs": [
    {
     "data": {
      "text/latex": [
       "$\\displaystyle 1.5 \\left(\\frac{d}{d t} x{\\left(t \\right)}\\right)^{2} + 1.5 \\left(\\frac{d}{d t} y{\\left(t \\right)}\\right)^{2} + 1.5 \\left(\\frac{d}{d t} z{\\left(t \\right)}\\right)^{2}$"
      ],
      "text/plain": [
       "1.5*Derivative(x(t), t)**2 + 1.5*Derivative(y(t), t)**2 + 1.5*Derivative(z(t), t)**2"
      ]
     },
     "execution_count": 3,
     "metadata": {},
     "output_type": "execute_result"
    }
   ],
   "source": [
    "l_free_particle(3.0)(gamma(q,t))\n"
   ]
  },
  {
   "cell_type": "code",
   "execution_count": 4,
   "id": "c1c467aa-46a7-47e1-a6b7-16c2eca9b050",
   "metadata": {
    "tags": []
   },
   "outputs": [
    {
     "data": {
      "text/latex": [
       "$\\displaystyle 435.0$"
      ],
      "text/plain": [
       "435.000000000000"
      ]
     },
     "execution_count": 4,
     "metadata": {},
     "output_type": "execute_result"
    }
   ],
   "source": [
    "lagrangian_action(l_free_particle(3.0), test_path, 0.0, 10.0)"
   ]
  },
  {
   "cell_type": "code",
   "execution_count": null,
   "id": "f68ffb28-ca2a-43ec-a9b5-4f05518a6d1b",
   "metadata": {},
   "outputs": [],
   "source": []
  }
 ],
 "metadata": {
  "kernelspec": {
   "display_name": "Python 3 (ipykernel)",
   "language": "python",
   "name": "python3"
  },
  "language_info": {
   "codemirror_mode": {
    "name": "ipython",
    "version": 3
   },
   "file_extension": ".py",
   "mimetype": "text/x-python",
   "name": "python",
   "nbconvert_exporter": "python",
   "pygments_lexer": "ipython3",
   "version": "3.11.4"
  }
 },
 "nbformat": 4,
 "nbformat_minor": 5
}
